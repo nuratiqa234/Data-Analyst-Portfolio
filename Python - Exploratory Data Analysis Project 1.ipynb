{
 "cells": [
  {
   "cell_type": "markdown",
   "id": "3557eed5",
   "metadata": {},
   "source": [
    "# 1) EXPLORATION OF DATA"
   ]
  },
  {
   "cell_type": "code",
   "execution_count": 1,
   "id": "5b3c1258",
   "metadata": {},
   "outputs": [],
   "source": [
    "#First, we import the csv file using pandas. \n",
    "import pandas as pd\n"
   ]
  },
  {
   "cell_type": "code",
   "execution_count": 2,
   "id": "04be3b8c",
   "metadata": {},
   "outputs": [],
   "source": [
    "\n",
    "ds_salaries = pd.read_csv('ds_salaries.csv')"
   ]
  },
  {
   "cell_type": "code",
   "execution_count": 3,
   "id": "651b52d5",
   "metadata": {},
   "outputs": [
    {
     "data": {
      "text/html": [
       "<div>\n",
       "<style scoped>\n",
       "    .dataframe tbody tr th:only-of-type {\n",
       "        vertical-align: middle;\n",
       "    }\n",
       "\n",
       "    .dataframe tbody tr th {\n",
       "        vertical-align: top;\n",
       "    }\n",
       "\n",
       "    .dataframe thead th {\n",
       "        text-align: right;\n",
       "    }\n",
       "</style>\n",
       "<table border=\"1\" class=\"dataframe\">\n",
       "  <thead>\n",
       "    <tr style=\"text-align: right;\">\n",
       "      <th></th>\n",
       "      <th>work_year</th>\n",
       "      <th>experience_level</th>\n",
       "      <th>employment_type</th>\n",
       "      <th>job_title</th>\n",
       "      <th>salary</th>\n",
       "      <th>salary_currency</th>\n",
       "      <th>salary_in_usd</th>\n",
       "      <th>employee_residence</th>\n",
       "      <th>remote_ratio</th>\n",
       "      <th>company_location</th>\n",
       "      <th>company_size</th>\n",
       "    </tr>\n",
       "  </thead>\n",
       "  <tbody>\n",
       "    <tr>\n",
       "      <th>0</th>\n",
       "      <td>2023</td>\n",
       "      <td>SE</td>\n",
       "      <td>FT</td>\n",
       "      <td>Principal Data Scientist</td>\n",
       "      <td>80000</td>\n",
       "      <td>EUR</td>\n",
       "      <td>85847</td>\n",
       "      <td>ES</td>\n",
       "      <td>100</td>\n",
       "      <td>ES</td>\n",
       "      <td>L</td>\n",
       "    </tr>\n",
       "    <tr>\n",
       "      <th>1</th>\n",
       "      <td>2023</td>\n",
       "      <td>MI</td>\n",
       "      <td>CT</td>\n",
       "      <td>ML Engineer</td>\n",
       "      <td>30000</td>\n",
       "      <td>USD</td>\n",
       "      <td>30000</td>\n",
       "      <td>US</td>\n",
       "      <td>100</td>\n",
       "      <td>US</td>\n",
       "      <td>S</td>\n",
       "    </tr>\n",
       "    <tr>\n",
       "      <th>2</th>\n",
       "      <td>2023</td>\n",
       "      <td>MI</td>\n",
       "      <td>CT</td>\n",
       "      <td>ML Engineer</td>\n",
       "      <td>25500</td>\n",
       "      <td>USD</td>\n",
       "      <td>25500</td>\n",
       "      <td>US</td>\n",
       "      <td>100</td>\n",
       "      <td>US</td>\n",
       "      <td>S</td>\n",
       "    </tr>\n",
       "    <tr>\n",
       "      <th>3</th>\n",
       "      <td>2023</td>\n",
       "      <td>SE</td>\n",
       "      <td>FT</td>\n",
       "      <td>Data Scientist</td>\n",
       "      <td>175000</td>\n",
       "      <td>USD</td>\n",
       "      <td>175000</td>\n",
       "      <td>CA</td>\n",
       "      <td>100</td>\n",
       "      <td>CA</td>\n",
       "      <td>M</td>\n",
       "    </tr>\n",
       "    <tr>\n",
       "      <th>4</th>\n",
       "      <td>2023</td>\n",
       "      <td>SE</td>\n",
       "      <td>FT</td>\n",
       "      <td>Data Scientist</td>\n",
       "      <td>120000</td>\n",
       "      <td>USD</td>\n",
       "      <td>120000</td>\n",
       "      <td>CA</td>\n",
       "      <td>100</td>\n",
       "      <td>CA</td>\n",
       "      <td>M</td>\n",
       "    </tr>\n",
       "  </tbody>\n",
       "</table>\n",
       "</div>"
      ],
      "text/plain": [
       "   work_year experience_level employment_type                 job_title  \\\n",
       "0       2023               SE              FT  Principal Data Scientist   \n",
       "1       2023               MI              CT               ML Engineer   \n",
       "2       2023               MI              CT               ML Engineer   \n",
       "3       2023               SE              FT            Data Scientist   \n",
       "4       2023               SE              FT            Data Scientist   \n",
       "\n",
       "   salary salary_currency  salary_in_usd employee_residence  remote_ratio  \\\n",
       "0   80000             EUR          85847                 ES           100   \n",
       "1   30000             USD          30000                 US           100   \n",
       "2   25500             USD          25500                 US           100   \n",
       "3  175000             USD         175000                 CA           100   \n",
       "4  120000             USD         120000                 CA           100   \n",
       "\n",
       "  company_location company_size  \n",
       "0               ES            L  \n",
       "1               US            S  \n",
       "2               US            S  \n",
       "3               CA            M  \n",
       "4               CA            M  "
      ]
     },
     "execution_count": 3,
     "metadata": {},
     "output_type": "execute_result"
    }
   ],
   "source": [
    "ds_salaries.head(5)"
   ]
  },
  {
   "cell_type": "markdown",
   "id": "455480c6",
   "metadata": {},
   "source": [
    "## a) Data Information "
   ]
  },
  {
   "cell_type": "code",
   "execution_count": 4,
   "id": "256a451c",
   "metadata": {},
   "outputs": [
    {
     "name": "stdout",
     "output_type": "stream",
     "text": [
      "<class 'pandas.core.frame.DataFrame'>\n",
      "RangeIndex: 3755 entries, 0 to 3754\n",
      "Data columns (total 11 columns):\n",
      " #   Column              Non-Null Count  Dtype \n",
      "---  ------              --------------  ----- \n",
      " 0   work_year           3755 non-null   int64 \n",
      " 1   experience_level    3755 non-null   object\n",
      " 2   employment_type     3755 non-null   object\n",
      " 3   job_title           3755 non-null   object\n",
      " 4   salary              3755 non-null   int64 \n",
      " 5   salary_currency     3755 non-null   object\n",
      " 6   salary_in_usd       3755 non-null   int64 \n",
      " 7   employee_residence  3755 non-null   object\n",
      " 8   remote_ratio        3755 non-null   int64 \n",
      " 9   company_location    3755 non-null   object\n",
      " 10  company_size        3755 non-null   object\n",
      "dtypes: int64(4), object(7)\n",
      "memory usage: 322.8+ KB\n"
     ]
    }
   ],
   "source": [
    "#We want to view all the data information. We can see if columns have the right data type. \n",
    "ds_salaries.info()"
   ]
  },
  {
   "cell_type": "markdown",
   "id": "6e1671c0",
   "metadata": {},
   "source": [
    "## b) Data Numerical Description"
   ]
  },
  {
   "cell_type": "code",
   "execution_count": 5,
   "id": "f9cd76cc",
   "metadata": {},
   "outputs": [
    {
     "data": {
      "text/html": [
       "<div>\n",
       "<style scoped>\n",
       "    .dataframe tbody tr th:only-of-type {\n",
       "        vertical-align: middle;\n",
       "    }\n",
       "\n",
       "    .dataframe tbody tr th {\n",
       "        vertical-align: top;\n",
       "    }\n",
       "\n",
       "    .dataframe thead th {\n",
       "        text-align: right;\n",
       "    }\n",
       "</style>\n",
       "<table border=\"1\" class=\"dataframe\">\n",
       "  <thead>\n",
       "    <tr style=\"text-align: right;\">\n",
       "      <th></th>\n",
       "      <th>work_year</th>\n",
       "      <th>salary</th>\n",
       "      <th>salary_in_usd</th>\n",
       "      <th>remote_ratio</th>\n",
       "    </tr>\n",
       "  </thead>\n",
       "  <tbody>\n",
       "    <tr>\n",
       "      <th>count</th>\n",
       "      <td>3755.000000</td>\n",
       "      <td>3.755000e+03</td>\n",
       "      <td>3755.000000</td>\n",
       "      <td>3755.000000</td>\n",
       "    </tr>\n",
       "    <tr>\n",
       "      <th>mean</th>\n",
       "      <td>2022.373635</td>\n",
       "      <td>1.906956e+05</td>\n",
       "      <td>137570.389880</td>\n",
       "      <td>46.271638</td>\n",
       "    </tr>\n",
       "    <tr>\n",
       "      <th>std</th>\n",
       "      <td>0.691448</td>\n",
       "      <td>6.716765e+05</td>\n",
       "      <td>63055.625278</td>\n",
       "      <td>48.589050</td>\n",
       "    </tr>\n",
       "    <tr>\n",
       "      <th>min</th>\n",
       "      <td>2020.000000</td>\n",
       "      <td>6.000000e+03</td>\n",
       "      <td>5132.000000</td>\n",
       "      <td>0.000000</td>\n",
       "    </tr>\n",
       "    <tr>\n",
       "      <th>25%</th>\n",
       "      <td>2022.000000</td>\n",
       "      <td>1.000000e+05</td>\n",
       "      <td>95000.000000</td>\n",
       "      <td>0.000000</td>\n",
       "    </tr>\n",
       "    <tr>\n",
       "      <th>50%</th>\n",
       "      <td>2022.000000</td>\n",
       "      <td>1.380000e+05</td>\n",
       "      <td>135000.000000</td>\n",
       "      <td>0.000000</td>\n",
       "    </tr>\n",
       "    <tr>\n",
       "      <th>75%</th>\n",
       "      <td>2023.000000</td>\n",
       "      <td>1.800000e+05</td>\n",
       "      <td>175000.000000</td>\n",
       "      <td>100.000000</td>\n",
       "    </tr>\n",
       "    <tr>\n",
       "      <th>max</th>\n",
       "      <td>2023.000000</td>\n",
       "      <td>3.040000e+07</td>\n",
       "      <td>450000.000000</td>\n",
       "      <td>100.000000</td>\n",
       "    </tr>\n",
       "  </tbody>\n",
       "</table>\n",
       "</div>"
      ],
      "text/plain": [
       "         work_year        salary  salary_in_usd  remote_ratio\n",
       "count  3755.000000  3.755000e+03    3755.000000   3755.000000\n",
       "mean   2022.373635  1.906956e+05  137570.389880     46.271638\n",
       "std       0.691448  6.716765e+05   63055.625278     48.589050\n",
       "min    2020.000000  6.000000e+03    5132.000000      0.000000\n",
       "25%    2022.000000  1.000000e+05   95000.000000      0.000000\n",
       "50%    2022.000000  1.380000e+05  135000.000000      0.000000\n",
       "75%    2023.000000  1.800000e+05  175000.000000    100.000000\n",
       "max    2023.000000  3.040000e+07  450000.000000    100.000000"
      ]
     },
     "execution_count": 5,
     "metadata": {},
     "output_type": "execute_result"
    }
   ],
   "source": [
    "ds_salaries.describe()"
   ]
  },
  {
   "cell_type": "markdown",
   "id": "951211c7",
   "metadata": {},
   "source": [
    "## c) Counting the categories "
   ]
  },
  {
   "cell_type": "code",
   "execution_count": 8,
   "id": "0750c384",
   "metadata": {},
   "outputs": [
    {
     "data": {
      "text/plain": [
       "SE    2516\n",
       "MI     805\n",
       "EN     320\n",
       "EX     114\n",
       "Name: experience_level, dtype: int64"
      ]
     },
     "execution_count": 8,
     "metadata": {},
     "output_type": "execute_result"
    }
   ],
   "source": [
    "ds_salaries[\"experience_level\"].value_counts()"
   ]
  },
  {
   "cell_type": "code",
   "execution_count": 9,
   "id": "ff4ae2e1",
   "metadata": {},
   "outputs": [
    {
     "data": {
      "text/plain": [
       "2023    1785\n",
       "2022    1664\n",
       "2021     230\n",
       "2020      76\n",
       "Name: work_year, dtype: int64"
      ]
     },
     "execution_count": 9,
     "metadata": {},
     "output_type": "execute_result"
    }
   ],
   "source": [
    "ds_salaries[\"work_year\"].value_counts()"
   ]
  },
  {
   "cell_type": "code",
   "execution_count": 10,
   "id": "96e18316",
   "metadata": {},
   "outputs": [
    {
     "data": {
      "text/plain": [
       "Data Engineer                          1040\n",
       "Data Scientist                          840\n",
       "Data Analyst                            612\n",
       "Machine Learning Engineer               289\n",
       "Analytics Engineer                      103\n",
       "                                       ... \n",
       "Principal Machine Learning Engineer       1\n",
       "Azure Data Engineer                       1\n",
       "Manager Data Management                   1\n",
       "Marketing Data Engineer                   1\n",
       "Finance Data Analyst                      1\n",
       "Name: job_title, Length: 93, dtype: int64"
      ]
     },
     "execution_count": 10,
     "metadata": {},
     "output_type": "execute_result"
    }
   ],
   "source": [
    "ds_salaries[\"job_title\"].value_counts()"
   ]
  },
  {
   "cell_type": "code",
   "execution_count": 26,
   "id": "d980df6b",
   "metadata": {},
   "outputs": [
    {
     "data": {
      "text/plain": [
       "US    3040\n",
       "GB     172\n",
       "CA      87\n",
       "ES      77\n",
       "IN      58\n",
       "      ... \n",
       "MK       1\n",
       "BS       1\n",
       "IR       1\n",
       "CR       1\n",
       "MT       1\n",
       "Name: company_location, Length: 72, dtype: int64"
      ]
     },
     "execution_count": 26,
     "metadata": {},
     "output_type": "execute_result"
    }
   ],
   "source": [
    "ds_salaries[\"company_location\"].value_counts()"
   ]
  },
  {
   "cell_type": "code",
   "execution_count": 11,
   "id": "d922a1b9",
   "metadata": {},
   "outputs": [
    {
     "data": {
      "text/plain": [
       "USD    3224\n",
       "EUR     236\n",
       "GBP     161\n",
       "INR      60\n",
       "CAD      25\n",
       "AUD       9\n",
       "SGD       6\n",
       "BRL       6\n",
       "PLN       5\n",
       "CHF       4\n",
       "HUF       3\n",
       "DKK       3\n",
       "JPY       3\n",
       "TRY       3\n",
       "THB       2\n",
       "ILS       1\n",
       "HKD       1\n",
       "CZK       1\n",
       "MXN       1\n",
       "CLP       1\n",
       "Name: salary_currency, dtype: int64"
      ]
     },
     "execution_count": 11,
     "metadata": {},
     "output_type": "execute_result"
    }
   ],
   "source": [
    "ds_salaries[\"salary_currency\"].value_counts()"
   ]
  },
  {
   "cell_type": "markdown",
   "id": "4c02da71",
   "metadata": {},
   "source": [
    "# 2) DATA VALIDATION"
   ]
  },
  {
   "cell_type": "markdown",
   "id": "0ff62855",
   "metadata": {},
   "source": [
    "## a) Updating Data Type \n",
    "\n",
    "\n",
    "-- As our data has correct data type. We will not run the syntax. This is the example of syntax if we want to update data type. Imagine that work_year column has float data type which is not accurate. We can change the data type into integer. \n",
    "\n",
    "ds_salaries[\"work_year\"] = ds_salaries[\"work_year\"].astype(int)\n",
    "\n",
    "Then we check again: \n",
    "ds_salaries.dtypes"
   ]
  },
  {
   "cell_type": "markdown",
   "id": "3ffcc3b9",
   "metadata": {},
   "source": [
    "## b) Validate Categorical Data "
   ]
  },
  {
   "cell_type": "markdown",
   "id": "34cfbf2e",
   "metadata": {},
   "source": [
    "To check whether the value in the experience level column are limited to SE, MI, EN, EX only. "
   ]
  },
  {
   "cell_type": "code",
   "execution_count": 13,
   "id": "af0a9c36",
   "metadata": {},
   "outputs": [
    {
     "data": {
      "text/plain": [
       "0       True\n",
       "1       True\n",
       "2       True\n",
       "3       True\n",
       "4       True\n",
       "        ... \n",
       "3750    True\n",
       "3751    True\n",
       "3752    True\n",
       "3753    True\n",
       "3754    True\n",
       "Name: experience_level, Length: 3755, dtype: bool"
      ]
     },
     "execution_count": 13,
     "metadata": {},
     "output_type": "execute_result"
    }
   ],
   "source": [
    "ds_salaries[\"experience_level\"].isin([\"SE\", \"MI\", \"EN\", \"EX\"])"
   ]
  },
  {
   "cell_type": "markdown",
   "id": "da400abe",
   "metadata": {},
   "source": [
    "If there was False and we want to use values only in the list (True), we can use the isin code we just wrote to filter using Boolean indexing. "
   ]
  },
  {
   "cell_type": "code",
   "execution_count": 14,
   "id": "fd98836d",
   "metadata": {},
   "outputs": [
    {
     "data": {
      "text/html": [
       "<div>\n",
       "<style scoped>\n",
       "    .dataframe tbody tr th:only-of-type {\n",
       "        vertical-align: middle;\n",
       "    }\n",
       "\n",
       "    .dataframe tbody tr th {\n",
       "        vertical-align: top;\n",
       "    }\n",
       "\n",
       "    .dataframe thead th {\n",
       "        text-align: right;\n",
       "    }\n",
       "</style>\n",
       "<table border=\"1\" class=\"dataframe\">\n",
       "  <thead>\n",
       "    <tr style=\"text-align: right;\">\n",
       "      <th></th>\n",
       "      <th>work_year</th>\n",
       "      <th>experience_level</th>\n",
       "      <th>employment_type</th>\n",
       "      <th>job_title</th>\n",
       "      <th>salary</th>\n",
       "      <th>salary_currency</th>\n",
       "      <th>salary_in_usd</th>\n",
       "      <th>employee_residence</th>\n",
       "      <th>remote_ratio</th>\n",
       "      <th>company_location</th>\n",
       "      <th>company_size</th>\n",
       "    </tr>\n",
       "  </thead>\n",
       "  <tbody>\n",
       "    <tr>\n",
       "      <th>0</th>\n",
       "      <td>2023</td>\n",
       "      <td>SE</td>\n",
       "      <td>FT</td>\n",
       "      <td>Principal Data Scientist</td>\n",
       "      <td>80000</td>\n",
       "      <td>EUR</td>\n",
       "      <td>85847</td>\n",
       "      <td>ES</td>\n",
       "      <td>100</td>\n",
       "      <td>ES</td>\n",
       "      <td>L</td>\n",
       "    </tr>\n",
       "    <tr>\n",
       "      <th>1</th>\n",
       "      <td>2023</td>\n",
       "      <td>MI</td>\n",
       "      <td>CT</td>\n",
       "      <td>ML Engineer</td>\n",
       "      <td>30000</td>\n",
       "      <td>USD</td>\n",
       "      <td>30000</td>\n",
       "      <td>US</td>\n",
       "      <td>100</td>\n",
       "      <td>US</td>\n",
       "      <td>S</td>\n",
       "    </tr>\n",
       "    <tr>\n",
       "      <th>2</th>\n",
       "      <td>2023</td>\n",
       "      <td>MI</td>\n",
       "      <td>CT</td>\n",
       "      <td>ML Engineer</td>\n",
       "      <td>25500</td>\n",
       "      <td>USD</td>\n",
       "      <td>25500</td>\n",
       "      <td>US</td>\n",
       "      <td>100</td>\n",
       "      <td>US</td>\n",
       "      <td>S</td>\n",
       "    </tr>\n",
       "    <tr>\n",
       "      <th>3</th>\n",
       "      <td>2023</td>\n",
       "      <td>SE</td>\n",
       "      <td>FT</td>\n",
       "      <td>Data Scientist</td>\n",
       "      <td>175000</td>\n",
       "      <td>USD</td>\n",
       "      <td>175000</td>\n",
       "      <td>CA</td>\n",
       "      <td>100</td>\n",
       "      <td>CA</td>\n",
       "      <td>M</td>\n",
       "    </tr>\n",
       "    <tr>\n",
       "      <th>4</th>\n",
       "      <td>2023</td>\n",
       "      <td>SE</td>\n",
       "      <td>FT</td>\n",
       "      <td>Data Scientist</td>\n",
       "      <td>120000</td>\n",
       "      <td>USD</td>\n",
       "      <td>120000</td>\n",
       "      <td>CA</td>\n",
       "      <td>100</td>\n",
       "      <td>CA</td>\n",
       "      <td>M</td>\n",
       "    </tr>\n",
       "  </tbody>\n",
       "</table>\n",
       "</div>"
      ],
      "text/plain": [
       "   work_year experience_level employment_type                 job_title  \\\n",
       "0       2023               SE              FT  Principal Data Scientist   \n",
       "1       2023               MI              CT               ML Engineer   \n",
       "2       2023               MI              CT               ML Engineer   \n",
       "3       2023               SE              FT            Data Scientist   \n",
       "4       2023               SE              FT            Data Scientist   \n",
       "\n",
       "   salary salary_currency  salary_in_usd employee_residence  remote_ratio  \\\n",
       "0   80000             EUR          85847                 ES           100   \n",
       "1   30000             USD          30000                 US           100   \n",
       "2   25500             USD          25500                 US           100   \n",
       "3  175000             USD         175000                 CA           100   \n",
       "4  120000             USD         120000                 CA           100   \n",
       "\n",
       "  company_location company_size  \n",
       "0               ES            L  \n",
       "1               US            S  \n",
       "2               US            S  \n",
       "3               CA            M  \n",
       "4               CA            M  "
      ]
     },
     "execution_count": 14,
     "metadata": {},
     "output_type": "execute_result"
    }
   ],
   "source": [
    "ds_salaries[ds_salaries[\"experience_level\"].isin([\"SE\", \"MI\", \"EN\", \"EX\"])].head()"
   ]
  },
  {
   "cell_type": "markdown",
   "id": "38ef503d",
   "metadata": {},
   "source": [
    "## c) Validate Numerical Data"
   ]
  },
  {
   "cell_type": "markdown",
   "id": "c44b805b",
   "metadata": {},
   "source": [
    "Select and view only the numerical column in Dataframe. "
   ]
  },
  {
   "cell_type": "code",
   "execution_count": 15,
   "id": "7b8a3b25",
   "metadata": {
    "scrolled": true
   },
   "outputs": [
    {
     "data": {
      "text/html": [
       "<div>\n",
       "<style scoped>\n",
       "    .dataframe tbody tr th:only-of-type {\n",
       "        vertical-align: middle;\n",
       "    }\n",
       "\n",
       "    .dataframe tbody tr th {\n",
       "        vertical-align: top;\n",
       "    }\n",
       "\n",
       "    .dataframe thead th {\n",
       "        text-align: right;\n",
       "    }\n",
       "</style>\n",
       "<table border=\"1\" class=\"dataframe\">\n",
       "  <thead>\n",
       "    <tr style=\"text-align: right;\">\n",
       "      <th></th>\n",
       "      <th>work_year</th>\n",
       "      <th>salary</th>\n",
       "      <th>salary_in_usd</th>\n",
       "      <th>remote_ratio</th>\n",
       "    </tr>\n",
       "  </thead>\n",
       "  <tbody>\n",
       "    <tr>\n",
       "      <th>0</th>\n",
       "      <td>2023</td>\n",
       "      <td>80000</td>\n",
       "      <td>85847</td>\n",
       "      <td>100</td>\n",
       "    </tr>\n",
       "    <tr>\n",
       "      <th>1</th>\n",
       "      <td>2023</td>\n",
       "      <td>30000</td>\n",
       "      <td>30000</td>\n",
       "      <td>100</td>\n",
       "    </tr>\n",
       "    <tr>\n",
       "      <th>2</th>\n",
       "      <td>2023</td>\n",
       "      <td>25500</td>\n",
       "      <td>25500</td>\n",
       "      <td>100</td>\n",
       "    </tr>\n",
       "    <tr>\n",
       "      <th>3</th>\n",
       "      <td>2023</td>\n",
       "      <td>175000</td>\n",
       "      <td>175000</td>\n",
       "      <td>100</td>\n",
       "    </tr>\n",
       "    <tr>\n",
       "      <th>4</th>\n",
       "      <td>2023</td>\n",
       "      <td>120000</td>\n",
       "      <td>120000</td>\n",
       "      <td>100</td>\n",
       "    </tr>\n",
       "  </tbody>\n",
       "</table>\n",
       "</div>"
      ],
      "text/plain": [
       "   work_year  salary  salary_in_usd  remote_ratio\n",
       "0       2023   80000          85847           100\n",
       "1       2023   30000          30000           100\n",
       "2       2023   25500          25500           100\n",
       "3       2023  175000         175000           100\n",
       "4       2023  120000         120000           100"
      ]
     },
     "execution_count": 15,
     "metadata": {},
     "output_type": "execute_result"
    }
   ],
   "source": [
    "ds_salaries.select_dtypes(\"number\").head()"
   ]
  },
  {
   "cell_type": "markdown",
   "id": "ba42bba3",
   "metadata": {},
   "source": [
    "# 3) DATA SUMMARIZATION"
   ]
  },
  {
   "cell_type": "markdown",
   "id": "a88e1ac8",
   "metadata": {},
   "source": [
    "## a) Exploring Group of Data\n",
    "\n",
    " - groupby() groups data by category\n",
    " - aggregating function such as mean() indicate how to summarize group data. \n"
   ]
  },
  {
   "cell_type": "code",
   "execution_count": 22,
   "id": "5953175e",
   "metadata": {},
   "outputs": [
    {
     "name": "stderr",
     "output_type": "stream",
     "text": [
      "/var/folders/jg/khdd77ms5r94dqnz22kvrxlc0000gn/T/ipykernel_18925/1644864981.py:1: FutureWarning: ['employment_type', 'job_title', 'salary_currency', 'employee_residence', 'company_location', 'company_size'] did not aggregate successfully. If any error is raised this will raise in a future version of pandas. Drop these columns/ops to avoid this warning.\n",
      "  ds_salaries.groupby(\"experience_level\").agg([\"mean\", \"min\"])\n"
     ]
    },
    {
     "data": {
      "text/html": [
       "<div>\n",
       "<style scoped>\n",
       "    .dataframe tbody tr th:only-of-type {\n",
       "        vertical-align: middle;\n",
       "    }\n",
       "\n",
       "    .dataframe tbody tr th {\n",
       "        vertical-align: top;\n",
       "    }\n",
       "\n",
       "    .dataframe thead tr th {\n",
       "        text-align: left;\n",
       "    }\n",
       "\n",
       "    .dataframe thead tr:last-of-type th {\n",
       "        text-align: right;\n",
       "    }\n",
       "</style>\n",
       "<table border=\"1\" class=\"dataframe\">\n",
       "  <thead>\n",
       "    <tr>\n",
       "      <th></th>\n",
       "      <th colspan=\"2\" halign=\"left\">work_year</th>\n",
       "      <th colspan=\"2\" halign=\"left\">salary</th>\n",
       "      <th colspan=\"2\" halign=\"left\">salary_in_usd</th>\n",
       "      <th colspan=\"2\" halign=\"left\">remote_ratio</th>\n",
       "    </tr>\n",
       "    <tr>\n",
       "      <th></th>\n",
       "      <th>mean</th>\n",
       "      <th>min</th>\n",
       "      <th>mean</th>\n",
       "      <th>min</th>\n",
       "      <th>mean</th>\n",
       "      <th>min</th>\n",
       "      <th>mean</th>\n",
       "      <th>min</th>\n",
       "    </tr>\n",
       "    <tr>\n",
       "      <th>experience_level</th>\n",
       "      <th></th>\n",
       "      <th></th>\n",
       "      <th></th>\n",
       "      <th></th>\n",
       "      <th></th>\n",
       "      <th></th>\n",
       "      <th></th>\n",
       "      <th></th>\n",
       "    </tr>\n",
       "  </thead>\n",
       "  <tbody>\n",
       "    <tr>\n",
       "      <th>EN</th>\n",
       "      <td>2022.053125</td>\n",
       "      <td>2020</td>\n",
       "      <td>188381.178125</td>\n",
       "      <td>6000</td>\n",
       "      <td>78546.284375</td>\n",
       "      <td>5409</td>\n",
       "      <td>55.156250</td>\n",
       "      <td>0</td>\n",
       "    </tr>\n",
       "    <tr>\n",
       "      <th>EX</th>\n",
       "      <td>2022.385965</td>\n",
       "      <td>2020</td>\n",
       "      <td>246802.201754</td>\n",
       "      <td>15000</td>\n",
       "      <td>194930.929825</td>\n",
       "      <td>15000</td>\n",
       "      <td>48.245614</td>\n",
       "      <td>0</td>\n",
       "    </tr>\n",
       "    <tr>\n",
       "      <th>MI</th>\n",
       "      <td>2022.203727</td>\n",
       "      <td>2020</td>\n",
       "      <td>248200.306832</td>\n",
       "      <td>7500</td>\n",
       "      <td>104525.939130</td>\n",
       "      <td>5132</td>\n",
       "      <td>46.211180</td>\n",
       "      <td>0</td>\n",
       "    </tr>\n",
       "    <tr>\n",
       "      <th>SE</th>\n",
       "      <td>2022.468203</td>\n",
       "      <td>2020</td>\n",
       "      <td>170048.965421</td>\n",
       "      <td>8000</td>\n",
       "      <td>153051.071542</td>\n",
       "      <td>8000</td>\n",
       "      <td>45.071542</td>\n",
       "      <td>0</td>\n",
       "    </tr>\n",
       "  </tbody>\n",
       "</table>\n",
       "</div>"
      ],
      "text/plain": [
       "                    work_year               salary         salary_in_usd  \\\n",
       "                         mean   min           mean    min           mean   \n",
       "experience_level                                                           \n",
       "EN                2022.053125  2020  188381.178125   6000   78546.284375   \n",
       "EX                2022.385965  2020  246802.201754  15000  194930.929825   \n",
       "MI                2022.203727  2020  248200.306832   7500  104525.939130   \n",
       "SE                2022.468203  2020  170048.965421   8000  153051.071542   \n",
       "\n",
       "                        remote_ratio      \n",
       "                    min         mean min  \n",
       "experience_level                          \n",
       "EN                 5409    55.156250   0  \n",
       "EX                15000    48.245614   0  \n",
       "MI                 5132    46.211180   0  \n",
       "SE                 8000    45.071542   0  "
      ]
     },
     "execution_count": 22,
     "metadata": {},
     "output_type": "execute_result"
    }
   ],
   "source": [
    "ds_salaries.groupby(\"experience_level\").agg([\"mean\", \"min\"])"
   ]
  },
  {
   "cell_type": "code",
   "execution_count": 23,
   "id": "4d4f4b64",
   "metadata": {},
   "outputs": [
    {
     "name": "stderr",
     "output_type": "stream",
     "text": [
      "/var/folders/jg/khdd77ms5r94dqnz22kvrxlc0000gn/T/ipykernel_18925/2491047737.py:1: FutureWarning: The default value of numeric_only in DataFrameGroupBy.mean is deprecated. In a future version, numeric_only will default to False. Either specify numeric_only or select only columns which should be valid for the function.\n",
      "  ds_salaries.groupby(\"experience_level\").mean()\n"
     ]
    },
    {
     "data": {
      "text/html": [
       "<div>\n",
       "<style scoped>\n",
       "    .dataframe tbody tr th:only-of-type {\n",
       "        vertical-align: middle;\n",
       "    }\n",
       "\n",
       "    .dataframe tbody tr th {\n",
       "        vertical-align: top;\n",
       "    }\n",
       "\n",
       "    .dataframe thead th {\n",
       "        text-align: right;\n",
       "    }\n",
       "</style>\n",
       "<table border=\"1\" class=\"dataframe\">\n",
       "  <thead>\n",
       "    <tr style=\"text-align: right;\">\n",
       "      <th></th>\n",
       "      <th>work_year</th>\n",
       "      <th>salary</th>\n",
       "      <th>salary_in_usd</th>\n",
       "      <th>remote_ratio</th>\n",
       "    </tr>\n",
       "    <tr>\n",
       "      <th>experience_level</th>\n",
       "      <th></th>\n",
       "      <th></th>\n",
       "      <th></th>\n",
       "      <th></th>\n",
       "    </tr>\n",
       "  </thead>\n",
       "  <tbody>\n",
       "    <tr>\n",
       "      <th>EN</th>\n",
       "      <td>2022.053125</td>\n",
       "      <td>188381.178125</td>\n",
       "      <td>78546.284375</td>\n",
       "      <td>55.156250</td>\n",
       "    </tr>\n",
       "    <tr>\n",
       "      <th>EX</th>\n",
       "      <td>2022.385965</td>\n",
       "      <td>246802.201754</td>\n",
       "      <td>194930.929825</td>\n",
       "      <td>48.245614</td>\n",
       "    </tr>\n",
       "    <tr>\n",
       "      <th>MI</th>\n",
       "      <td>2022.203727</td>\n",
       "      <td>248200.306832</td>\n",
       "      <td>104525.939130</td>\n",
       "      <td>46.211180</td>\n",
       "    </tr>\n",
       "    <tr>\n",
       "      <th>SE</th>\n",
       "      <td>2022.468203</td>\n",
       "      <td>170048.965421</td>\n",
       "      <td>153051.071542</td>\n",
       "      <td>45.071542</td>\n",
       "    </tr>\n",
       "  </tbody>\n",
       "</table>\n",
       "</div>"
      ],
      "text/plain": [
       "                    work_year         salary  salary_in_usd  remote_ratio\n",
       "experience_level                                                         \n",
       "EN                2022.053125  188381.178125   78546.284375     55.156250\n",
       "EX                2022.385965  246802.201754  194930.929825     48.245614\n",
       "MI                2022.203727  248200.306832  104525.939130     46.211180\n",
       "SE                2022.468203  170048.965421  153051.071542     45.071542"
      ]
     },
     "execution_count": 23,
     "metadata": {},
     "output_type": "execute_result"
    }
   ],
   "source": [
    "ds_salaries.groupby(\"experience_level\").mean()"
   ]
  },
  {
   "cell_type": "markdown",
   "id": "ba0824b2",
   "metadata": {},
   "source": [
    "## b) Aggregate functions across Dataframe for Ungrouped Data"
   ]
  },
  {
   "cell_type": "code",
   "execution_count": 20,
   "id": "ac551c89",
   "metadata": {},
   "outputs": [
    {
     "name": "stderr",
     "output_type": "stream",
     "text": [
      "/var/folders/jg/khdd77ms5r94dqnz22kvrxlc0000gn/T/ipykernel_18925/3446506780.py:1: FutureWarning: ['experience_level', 'employment_type', 'job_title', 'salary_currency', 'employee_residence', 'company_location', 'company_size'] did not aggregate successfully. If any error is raised this will raise in a future version of pandas. Drop these columns/ops to avoid this warning.\n",
      "  ds_salaries.agg([\"mean\", \"std\"])\n"
     ]
    },
    {
     "data": {
      "text/html": [
       "<div>\n",
       "<style scoped>\n",
       "    .dataframe tbody tr th:only-of-type {\n",
       "        vertical-align: middle;\n",
       "    }\n",
       "\n",
       "    .dataframe tbody tr th {\n",
       "        vertical-align: top;\n",
       "    }\n",
       "\n",
       "    .dataframe thead th {\n",
       "        text-align: right;\n",
       "    }\n",
       "</style>\n",
       "<table border=\"1\" class=\"dataframe\">\n",
       "  <thead>\n",
       "    <tr style=\"text-align: right;\">\n",
       "      <th></th>\n",
       "      <th>work_year</th>\n",
       "      <th>salary</th>\n",
       "      <th>salary_in_usd</th>\n",
       "      <th>remote_ratio</th>\n",
       "    </tr>\n",
       "  </thead>\n",
       "  <tbody>\n",
       "    <tr>\n",
       "      <th>mean</th>\n",
       "      <td>2022.373635</td>\n",
       "      <td>190695.571771</td>\n",
       "      <td>137570.389880</td>\n",
       "      <td>46.271638</td>\n",
       "    </tr>\n",
       "    <tr>\n",
       "      <th>std</th>\n",
       "      <td>0.691448</td>\n",
       "      <td>671676.500508</td>\n",
       "      <td>63055.625278</td>\n",
       "      <td>48.589050</td>\n",
       "    </tr>\n",
       "  </tbody>\n",
       "</table>\n",
       "</div>"
      ],
      "text/plain": [
       "        work_year         salary  salary_in_usd  remote_ratio\n",
       "mean  2022.373635  190695.571771  137570.389880     46.271638\n",
       "std      0.691448  671676.500508   63055.625278     48.589050"
      ]
     },
     "execution_count": 20,
     "metadata": {},
     "output_type": "execute_result"
    }
   ],
   "source": [
    "ds_salaries.agg([\"mean\", \"std\"])"
   ]
  },
  {
   "cell_type": "code",
   "execution_count": 25,
   "id": "154a8002",
   "metadata": {},
   "outputs": [
    {
     "data": {
      "text/html": [
       "<div>\n",
       "<style scoped>\n",
       "    .dataframe tbody tr th:only-of-type {\n",
       "        vertical-align: middle;\n",
       "    }\n",
       "\n",
       "    .dataframe tbody tr th {\n",
       "        vertical-align: top;\n",
       "    }\n",
       "\n",
       "    .dataframe thead th {\n",
       "        text-align: right;\n",
       "    }\n",
       "</style>\n",
       "<table border=\"1\" class=\"dataframe\">\n",
       "  <thead>\n",
       "    <tr style=\"text-align: right;\">\n",
       "      <th></th>\n",
       "      <th>Average_salary_usd</th>\n",
       "      <th>Median_work_year</th>\n",
       "    </tr>\n",
       "    <tr>\n",
       "      <th>experience_level</th>\n",
       "      <th></th>\n",
       "      <th></th>\n",
       "    </tr>\n",
       "  </thead>\n",
       "  <tbody>\n",
       "    <tr>\n",
       "      <th>EN</th>\n",
       "      <td>78546.284375</td>\n",
       "      <td>2022.0</td>\n",
       "    </tr>\n",
       "    <tr>\n",
       "      <th>EX</th>\n",
       "      <td>194930.929825</td>\n",
       "      <td>2023.0</td>\n",
       "    </tr>\n",
       "    <tr>\n",
       "      <th>MI</th>\n",
       "      <td>104525.939130</td>\n",
       "      <td>2022.0</td>\n",
       "    </tr>\n",
       "    <tr>\n",
       "      <th>SE</th>\n",
       "      <td>153051.071542</td>\n",
       "      <td>2023.0</td>\n",
       "    </tr>\n",
       "  </tbody>\n",
       "</table>\n",
       "</div>"
      ],
      "text/plain": [
       "                  Average_salary_usd  Median_work_year\n",
       "experience_level                                      \n",
       "EN                      78546.284375            2022.0\n",
       "EX                     194930.929825            2023.0\n",
       "MI                     104525.939130            2022.0\n",
       "SE                     153051.071542            2023.0"
      ]
     },
     "execution_count": 25,
     "metadata": {},
     "output_type": "execute_result"
    }
   ],
   "source": [
    "ds_salaries.groupby(\"experience_level\").agg( Average_salary_usd = (\"salary_in_usd\",\"mean\"), Median_work_year = (\"work_year\", \"median\"))"
   ]
  },
  {
   "cell_type": "markdown",
   "id": "4bc075e0",
   "metadata": {},
   "source": [
    "# 4) ADDRESSING MISSING DATA"
   ]
  },
  {
   "cell_type": "markdown",
   "id": "f949dd02",
   "metadata": {},
   "source": [
    "## a) Checking for missing values"
   ]
  },
  {
   "cell_type": "code",
   "execution_count": 35,
   "id": "d3afc3b9",
   "metadata": {},
   "outputs": [
    {
     "data": {
      "text/plain": [
       "work_year             0\n",
       "experience_level      0\n",
       "employment_type       0\n",
       "job_title             0\n",
       "salary                0\n",
       "salary_currency       0\n",
       "salary_in_usd         0\n",
       "employee_residence    0\n",
       "remote_ratio          0\n",
       "company_location      0\n",
       "company_size          0\n",
       "dtype: int64"
      ]
     },
     "execution_count": 35,
     "metadata": {},
     "output_type": "execute_result"
    }
   ],
   "source": [
    "ds_salaries.isna().sum()"
   ]
  },
  {
   "cell_type": "markdown",
   "id": "897d1952",
   "metadata": {},
   "source": [
    "# 5) CONVERTING AND ANALYZING CATEGORICAL DATA"
   ]
  },
  {
   "cell_type": "markdown",
   "id": "aaab4cd2",
   "metadata": {},
   "source": [
    "## a) Previewing The Data"
   ]
  },
  {
   "cell_type": "code",
   "execution_count": 36,
   "id": "d58cbdee",
   "metadata": {
    "scrolled": true
   },
   "outputs": [
    {
     "data": {
      "text/html": [
       "<div>\n",
       "<style scoped>\n",
       "    .dataframe tbody tr th:only-of-type {\n",
       "        vertical-align: middle;\n",
       "    }\n",
       "\n",
       "    .dataframe tbody tr th {\n",
       "        vertical-align: top;\n",
       "    }\n",
       "\n",
       "    .dataframe thead th {\n",
       "        text-align: right;\n",
       "    }\n",
       "</style>\n",
       "<table border=\"1\" class=\"dataframe\">\n",
       "  <thead>\n",
       "    <tr style=\"text-align: right;\">\n",
       "      <th></th>\n",
       "      <th>experience_level</th>\n",
       "      <th>employment_type</th>\n",
       "      <th>job_title</th>\n",
       "      <th>salary_currency</th>\n",
       "      <th>employee_residence</th>\n",
       "      <th>company_location</th>\n",
       "      <th>company_size</th>\n",
       "    </tr>\n",
       "  </thead>\n",
       "  <tbody>\n",
       "    <tr>\n",
       "      <th>0</th>\n",
       "      <td>SE</td>\n",
       "      <td>FT</td>\n",
       "      <td>Principal Data Scientist</td>\n",
       "      <td>EUR</td>\n",
       "      <td>ES</td>\n",
       "      <td>GB</td>\n",
       "      <td>L</td>\n",
       "    </tr>\n",
       "    <tr>\n",
       "      <th>1</th>\n",
       "      <td>MI</td>\n",
       "      <td>CT</td>\n",
       "      <td>ML Engineer</td>\n",
       "      <td>USD</td>\n",
       "      <td>US</td>\n",
       "      <td>GB</td>\n",
       "      <td>S</td>\n",
       "    </tr>\n",
       "    <tr>\n",
       "      <th>2</th>\n",
       "      <td>MI</td>\n",
       "      <td>CT</td>\n",
       "      <td>ML Engineer</td>\n",
       "      <td>USD</td>\n",
       "      <td>US</td>\n",
       "      <td>GB</td>\n",
       "      <td>S</td>\n",
       "    </tr>\n",
       "    <tr>\n",
       "      <th>3</th>\n",
       "      <td>SE</td>\n",
       "      <td>FT</td>\n",
       "      <td>Data Scientist</td>\n",
       "      <td>USD</td>\n",
       "      <td>CA</td>\n",
       "      <td>GB</td>\n",
       "      <td>M</td>\n",
       "    </tr>\n",
       "    <tr>\n",
       "      <th>4</th>\n",
       "      <td>SE</td>\n",
       "      <td>FT</td>\n",
       "      <td>Data Scientist</td>\n",
       "      <td>USD</td>\n",
       "      <td>CA</td>\n",
       "      <td>GB</td>\n",
       "      <td>M</td>\n",
       "    </tr>\n",
       "  </tbody>\n",
       "</table>\n",
       "</div>"
      ],
      "text/plain": [
       "  experience_level employment_type                 job_title salary_currency  \\\n",
       "0               SE              FT  Principal Data Scientist             EUR   \n",
       "1               MI              CT               ML Engineer             USD   \n",
       "2               MI              CT               ML Engineer             USD   \n",
       "3               SE              FT            Data Scientist             USD   \n",
       "4               SE              FT            Data Scientist             USD   \n",
       "\n",
       "  employee_residence company_location company_size  \n",
       "0                 ES               GB            L  \n",
       "1                 US               GB            S  \n",
       "2                 US               GB            S  \n",
       "3                 CA               GB            M  \n",
       "4                 CA               GB            M  "
      ]
     },
     "execution_count": 36,
     "metadata": {},
     "output_type": "execute_result"
    }
   ],
   "source": [
    "ds_salaries.select_dtypes(\"object\").head()"
   ]
  },
  {
   "cell_type": "markdown",
   "id": "2f8cdbcd",
   "metadata": {},
   "source": [
    "To see how many unique job title in the dataframe. There are 93 unique job title."
   ]
  },
  {
   "cell_type": "code",
   "execution_count": 38,
   "id": "204078e0",
   "metadata": {},
   "outputs": [
    {
     "data": {
      "text/plain": [
       "93"
      ]
     },
     "execution_count": 38,
     "metadata": {},
     "output_type": "execute_result"
    }
   ],
   "source": [
    "ds_salaries[\"job_title\"].nunique()"
   ]
  },
  {
   "cell_type": "markdown",
   "id": "c2dad71b",
   "metadata": {},
   "source": [
    "## b) Finding Multiple Phrases in Strings"
   ]
  },
  {
   "cell_type": "markdown",
   "id": "2be74d13",
   "metadata": {},
   "source": [
    "There are too many unique job title. We want to categorize them by using our own list of job category. This will become the values of a new column in our DataFrame. "
   ]
  },
  {
   "cell_type": "code",
   "execution_count": 41,
   "id": "e5a70743",
   "metadata": {},
   "outputs": [],
   "source": [
    "import numpy as np"
   ]
  },
  {
   "cell_type": "markdown",
   "id": "63492f61",
   "metadata": {},
   "source": [
    " -- CREATE LIST FIRST --"
   ]
  },
  {
   "cell_type": "code",
   "execution_count": 39,
   "id": "b432c7c3",
   "metadata": {},
   "outputs": [],
   "source": [
    "job_categories = [\"Data Science\", \"Data Analytics\", \"Data Engineering\", \"Machine Learning\",\"Managerial\",\"Consultant\"]"
   ]
  },
  {
   "cell_type": "markdown",
   "id": "b8e5ab28",
   "metadata": {},
   "source": [
    "-- CREATE STRING --"
   ]
  },
  {
   "cell_type": "code",
   "execution_count": 46,
   "id": "3b26ade7",
   "metadata": {},
   "outputs": [],
   "source": [
    "data_science = \"Data Scientist|NLP\"\n",
    "data_analyst = \"Analyst|Analytics\"\n",
    "data_engineer = \"Data Engineer|ETL|Architect|Infrastructure\"\n",
    "ml_engineer = \"Machine Learning|ML|Big Data|AI\"\n",
    "manager = \"Manager|Head|Director|Lead|Principal|Staff\"\n",
    "consultant = \"Consultant|Freelance\""
   ]
  },
  {
   "cell_type": "markdown",
   "id": "6e245c19",
   "metadata": {},
   "source": [
    "-- CREATE CONDITION --"
   ]
  },
  {
   "cell_type": "code",
   "execution_count": 47,
   "id": "f8efa859",
   "metadata": {},
   "outputs": [],
   "source": [
    "conditions = [(ds_salaries[\"job_title\"].str.contains(data_science)),\n",
    "             (ds_salaries[\"job_title\"].str.contains(data_analyst)),\n",
    "             (ds_salaries[\"job_title\"].str.contains(data_engineer)),\n",
    "             (ds_salaries[\"job_title\"].str.contains(ml_engineer)),\n",
    "             (ds_salaries[\"job_title\"].str.contains(manager)),\n",
    "             (ds_salaries[\"job_title\"].str.contains(consultant))]"
   ]
  },
  {
   "cell_type": "markdown",
   "id": "04e697dc",
   "metadata": {},
   "source": [
    "-- APPLY CONDITION --"
   ]
  },
  {
   "cell_type": "code",
   "execution_count": 48,
   "id": "986cb5e6",
   "metadata": {},
   "outputs": [],
   "source": [
    "ds_salaries[\"Job_Category\"] = np.select(conditions, job_categories, default = \"Other\")\n"
   ]
  },
  {
   "cell_type": "code",
   "execution_count": 49,
   "id": "348fcf74",
   "metadata": {},
   "outputs": [
    {
     "data": {
      "text/html": [
       "<div>\n",
       "<style scoped>\n",
       "    .dataframe tbody tr th:only-of-type {\n",
       "        vertical-align: middle;\n",
       "    }\n",
       "\n",
       "    .dataframe tbody tr th {\n",
       "        vertical-align: top;\n",
       "    }\n",
       "\n",
       "    .dataframe thead th {\n",
       "        text-align: right;\n",
       "    }\n",
       "</style>\n",
       "<table border=\"1\" class=\"dataframe\">\n",
       "  <thead>\n",
       "    <tr style=\"text-align: right;\">\n",
       "      <th></th>\n",
       "      <th>job_title</th>\n",
       "      <th>Job_Category</th>\n",
       "    </tr>\n",
       "  </thead>\n",
       "  <tbody>\n",
       "    <tr>\n",
       "      <th>0</th>\n",
       "      <td>Principal Data Scientist</td>\n",
       "      <td>Data Science</td>\n",
       "    </tr>\n",
       "    <tr>\n",
       "      <th>1</th>\n",
       "      <td>ML Engineer</td>\n",
       "      <td>Machine Learning</td>\n",
       "    </tr>\n",
       "    <tr>\n",
       "      <th>2</th>\n",
       "      <td>ML Engineer</td>\n",
       "      <td>Machine Learning</td>\n",
       "    </tr>\n",
       "    <tr>\n",
       "      <th>3</th>\n",
       "      <td>Data Scientist</td>\n",
       "      <td>Data Science</td>\n",
       "    </tr>\n",
       "    <tr>\n",
       "      <th>4</th>\n",
       "      <td>Data Scientist</td>\n",
       "      <td>Data Science</td>\n",
       "    </tr>\n",
       "  </tbody>\n",
       "</table>\n",
       "</div>"
      ],
      "text/plain": [
       "                  job_title      Job_Category\n",
       "0  Principal Data Scientist      Data Science\n",
       "1               ML Engineer  Machine Learning\n",
       "2               ML Engineer  Machine Learning\n",
       "3            Data Scientist      Data Science\n",
       "4            Data Scientist      Data Science"
      ]
     },
     "execution_count": 49,
     "metadata": {},
     "output_type": "execute_result"
    }
   ],
   "source": [
    "ds_salaries[[\"job_title\", \"Job_Category\"]].head()"
   ]
  },
  {
   "cell_type": "markdown",
   "id": "1979ad68",
   "metadata": {},
   "source": [
    "Visualize job category frequency"
   ]
  },
  {
   "cell_type": "code",
   "execution_count": 50,
   "id": "23447229",
   "metadata": {},
   "outputs": [],
   "source": [
    "import seaborn as sns\n",
    "import matplotlib.pyplot as plt "
   ]
  },
  {
   "cell_type": "code",
   "execution_count": 55,
   "id": "33d19388",
   "metadata": {},
   "outputs": [
    {
     "data": {
      "image/png": "[encoded data removed]",
      "text/plain": [
       "<Figure size 640x480 with 1 Axes>"
      ]
     },
     "metadata": {},
     "output_type": "display_data"
    }
   ],
   "source": [
    "sns.countplot(data = ds_salaries, x = \"Job_Category\")\n",
    "plt.xticks(rotation = 90)\n",
    "plt.show()"
   ]
  },
  {
   "cell_type": "markdown",
   "id": "03ce770a",
   "metadata": {},
   "source": [
    "# 6) WORKING WITH NUMERIC DATA"
   ]
  },
  {
   "cell_type": "markdown",
   "id": "f115fae4",
   "metadata": {},
   "source": [
    "## a) Adding Summary Statistics Into a Dataframe"
   ]
  },
  {
   "cell_type": "markdown",
   "id": "c6f1664e",
   "metadata": {},
   "source": [
    "We want to create a new column containing the standard deviation (summary statistic), where values are conditional based on the Experience column."
   ]
  },
  {
   "cell_type": "code",
   "execution_count": 116,
   "id": "eca545e1",
   "metadata": {},
   "outputs": [
    {
     "data": {
      "text/plain": [
       "0    56896.263954\n",
       "1    54387.685128\n",
       "2    54387.685128\n",
       "3    56896.263954\n",
       "4    56896.263954\n",
       "Name: std_dev, dtype: float64"
      ]
     },
     "execution_count": 116,
     "metadata": {},
     "output_type": "execute_result"
    }
   ],
   "source": [
    "ds_salaries[\"std_dev\"] = ds_salaries.groupby(\"experience_level\")[\"salary_in_usd\"].transform(lambda x: x.std())\n",
    "ds_salaries[\"std_dev\"].head()"
   ]
  },
  {
   "cell_type": "code",
   "execution_count": 115,
   "id": "790d6b7e",
   "metadata": {},
   "outputs": [
    {
     "data": {
      "text/plain": [
       "experience_level  std_dev     \n",
       "SE                56896.263954    2516\n",
       "MI                54387.685128     805\n",
       "EN                52225.424309     320\n",
       "EX                70661.929661     114\n",
       "dtype: int64"
      ]
     },
     "execution_count": 115,
     "metadata": {},
     "output_type": "execute_result"
    }
   ],
   "source": [
    "ds_salaries[[\"experience_level\", \"std_dev\"]].value_counts()"
   ]
  },
  {
   "cell_type": "markdown",
   "id": "d6c761f6",
   "metadata": {},
   "source": [
    "# 7) HANDLING OUTLIERS"
   ]
  },
  {
   "cell_type": "markdown",
   "id": "83b0cdfc",
   "metadata": {},
   "source": [
    "## a) Using the Interquartile Range "
   ]
  },
  {
   "cell_type": "markdown",
   "id": "bbf233c1",
   "metadata": {},
   "source": [
    "- identify if our dataset has outliers in salary column"
   ]
  },
  {
   "cell_type": "code",
   "execution_count": 129,
   "id": "7385f5c8",
   "metadata": {
    "scrolled": true
   },
   "outputs": [
    {
     "data": {
      "text/plain": [
       "count      3755.000000\n",
       "mean     137570.389880\n",
       "std       63055.625278\n",
       "min        5132.000000\n",
       "25%       95000.000000\n",
       "50%      135000.000000\n",
       "75%      175000.000000\n",
       "max      450000.000000\n",
       "Name: salary_in_usd, dtype: float64"
      ]
     },
     "execution_count": 129,
     "metadata": {},
     "output_type": "execute_result"
    }
   ],
   "source": [
    "#We can see the max salary is about 4 times the mean & median. \n",
    "#So, there must be extreme values. \n",
    "ds_salaries[\"salary_in_usd\"].describe()"
   ]
  },
  {
   "cell_type": "markdown",
   "id": "93bc8d4f",
   "metadata": {},
   "source": [
    " - We need to know the interquartile range (IQR) which is the difference between 75th and 25th percentile. "
   ]
  },
  {
   "cell_type": "markdown",
   "id": "6c1c58cd",
   "metadata": {},
   "source": [
    "IQR = 75th - 25th percentile\n",
    "\n",
    "Upper Outliers > 75th percentile + (1.5* IQR)\n",
    "Lower Outliers < 25th percentile - (1.5 * IQR)\n",
    "\n"
   ]
  },
  {
   "cell_type": "markdown",
   "id": "bb9fd49e",
   "metadata": {},
   "source": [
    "- Identifying IQR"
   ]
  },
  {
   "cell_type": "code",
   "execution_count": 122,
   "id": "071788c4",
   "metadata": {},
   "outputs": [
    {
     "data": {
      "text/plain": [
       "80000.0"
      ]
     },
     "execution_count": 122,
     "metadata": {},
     "output_type": "execute_result"
    }
   ],
   "source": [
    "#75th percentile:\n",
    "seventy_fifth = ds_salaries[\"salary_in_usd\"].quantile(0.75)\n",
    "\n",
    "#25th percentile:\n",
    "twenty_fifth = ds_salaries[\"salary_in_usd\"].quantile(0.25)\n",
    "\n",
    "#IQR\n",
    "salaries_iqr = seventy_fifth - twenty_fifth\n",
    "\n",
    "salaries_iqr"
   ]
  },
  {
   "cell_type": "markdown",
   "id": "98b61785",
   "metadata": {},
   "source": [
    "- identify outliers"
   ]
  },
  {
   "cell_type": "code",
   "execution_count": 123,
   "id": "4a38741c",
   "metadata": {},
   "outputs": [
    {
     "name": "stdout",
     "output_type": "stream",
     "text": [
      "295000.0 -25000.0\n"
     ]
    }
   ],
   "source": [
    "#upper threshold\n",
    "upper = seventy_fifth + (1.5 * salaries_iqr)\n",
    "\n",
    "#lower threshold\n",
    "lower = twenty_fifth - (1.5 * salaries_iqr)\n",
    "\n",
    "print(upper, lower)"
   ]
  },
  {
   "cell_type": "code",
   "execution_count": 124,
   "id": "8232b19d",
   "metadata": {},
   "outputs": [
    {
     "data": {
      "text/html": [
       "<div>\n",
       "<style scoped>\n",
       "    .dataframe tbody tr th:only-of-type {\n",
       "        vertical-align: middle;\n",
       "    }\n",
       "\n",
       "    .dataframe tbody tr th {\n",
       "        vertical-align: top;\n",
       "    }\n",
       "\n",
       "    .dataframe thead th {\n",
       "        text-align: right;\n",
       "    }\n",
       "</style>\n",
       "<table border=\"1\" class=\"dataframe\">\n",
       "  <thead>\n",
       "    <tr style=\"text-align: right;\">\n",
       "      <th></th>\n",
       "      <th>experience_level</th>\n",
       "      <th>employee_residence</th>\n",
       "      <th>salary_in_usd</th>\n",
       "    </tr>\n",
       "  </thead>\n",
       "  <tbody>\n",
       "    <tr>\n",
       "      <th>33</th>\n",
       "      <td>SE</td>\n",
       "      <td>US</td>\n",
       "      <td>342810</td>\n",
       "    </tr>\n",
       "    <tr>\n",
       "      <th>68</th>\n",
       "      <td>SE</td>\n",
       "      <td>US</td>\n",
       "      <td>309400</td>\n",
       "    </tr>\n",
       "    <tr>\n",
       "      <th>83</th>\n",
       "      <td>EN</td>\n",
       "      <td>IN</td>\n",
       "      <td>300000</td>\n",
       "    </tr>\n",
       "    <tr>\n",
       "      <th>133</th>\n",
       "      <td>SE</td>\n",
       "      <td>US</td>\n",
       "      <td>342300</td>\n",
       "    </tr>\n",
       "    <tr>\n",
       "      <th>145</th>\n",
       "      <td>SE</td>\n",
       "      <td>US</td>\n",
       "      <td>318300</td>\n",
       "    </tr>\n",
       "    <tr>\n",
       "      <th>...</th>\n",
       "      <td>...</td>\n",
       "      <td>...</td>\n",
       "      <td>...</td>\n",
       "    </tr>\n",
       "    <tr>\n",
       "      <th>3522</th>\n",
       "      <td>MI</td>\n",
       "      <td>US</td>\n",
       "      <td>450000</td>\n",
       "    </tr>\n",
       "    <tr>\n",
       "      <th>3675</th>\n",
       "      <td>EX</td>\n",
       "      <td>US</td>\n",
       "      <td>416000</td>\n",
       "    </tr>\n",
       "    <tr>\n",
       "      <th>3697</th>\n",
       "      <td>EX</td>\n",
       "      <td>US</td>\n",
       "      <td>325000</td>\n",
       "    </tr>\n",
       "    <tr>\n",
       "      <th>3747</th>\n",
       "      <td>MI</td>\n",
       "      <td>US</td>\n",
       "      <td>423000</td>\n",
       "    </tr>\n",
       "    <tr>\n",
       "      <th>3750</th>\n",
       "      <td>SE</td>\n",
       "      <td>US</td>\n",
       "      <td>412000</td>\n",
       "    </tr>\n",
       "  </tbody>\n",
       "</table>\n",
       "<p>63 rows × 3 columns</p>\n",
       "</div>"
      ],
      "text/plain": [
       "     experience_level employee_residence  salary_in_usd\n",
       "33                 SE                 US         342810\n",
       "68                 SE                 US         309400\n",
       "83                 EN                 IN         300000\n",
       "133                SE                 US         342300\n",
       "145                SE                 US         318300\n",
       "...               ...                ...            ...\n",
       "3522               MI                 US         450000\n",
       "3675               EX                 US         416000\n",
       "3697               EX                 US         325000\n",
       "3747               MI                 US         423000\n",
       "3750               SE                 US         412000\n",
       "\n",
       "[63 rows x 3 columns]"
      ]
     },
     "execution_count": 124,
     "metadata": {},
     "output_type": "execute_result"
    }
   ],
   "source": [
    "#subset data to find value outside of these limits. We want to see only experience, employee residence and salary. \n",
    "ds_salaries[(ds_salaries[\"salary_in_usd\"] < lower)| (ds_salaries[\"salary_in_usd\"]> upper)]\\\n",
    "           [[\"experience_level\", \"employee_residence\", \"salary_in_usd\"]]"
   ]
  },
  {
   "cell_type": "markdown",
   "id": "910bc41c",
   "metadata": {},
   "source": [
    "Why look for outliers? \n",
    "1 - outliers are extreme values. May not accurately represent our data. \n",
    "2 - Can change the mean and standard deviation. \n",
    "3 - Statistical test and machine learning models need normally distributed data. "
   ]
  },
  {
   "cell_type": "markdown",
   "id": "376c9b52",
   "metadata": {},
   "source": [
    "## b) Dropping Outliers "
   ]
  },
  {
   "cell_type": "code",
   "execution_count": 127,
   "id": "eac95938",
   "metadata": {},
   "outputs": [
    {
     "data": {
      "text/html": [
       "<div>\n",
       "<style scoped>\n",
       "    .dataframe tbody tr th:only-of-type {\n",
       "        vertical-align: middle;\n",
       "    }\n",
       "\n",
       "    .dataframe tbody tr th {\n",
       "        vertical-align: top;\n",
       "    }\n",
       "\n",
       "    .dataframe thead th {\n",
       "        text-align: right;\n",
       "    }\n",
       "</style>\n",
       "<table border=\"1\" class=\"dataframe\">\n",
       "  <thead>\n",
       "    <tr style=\"text-align: right;\">\n",
       "      <th></th>\n",
       "      <th>work_year</th>\n",
       "      <th>experience_level</th>\n",
       "      <th>employment_type</th>\n",
       "      <th>job_title</th>\n",
       "      <th>salary</th>\n",
       "      <th>salary_currency</th>\n",
       "      <th>salary_in_usd</th>\n",
       "      <th>employee_residence</th>\n",
       "      <th>remote_ratio</th>\n",
       "      <th>company_location</th>\n",
       "      <th>company_size</th>\n",
       "      <th>Job_Category</th>\n",
       "      <th>std_dev</th>\n",
       "    </tr>\n",
       "  </thead>\n",
       "  <tbody>\n",
       "    <tr>\n",
       "      <th>0</th>\n",
       "      <td>2023</td>\n",
       "      <td>SE</td>\n",
       "      <td>FT</td>\n",
       "      <td>Principal Data Scientist</td>\n",
       "      <td>80000</td>\n",
       "      <td>EUR</td>\n",
       "      <td>85847</td>\n",
       "      <td>ES</td>\n",
       "      <td>100</td>\n",
       "      <td>GB</td>\n",
       "      <td>L</td>\n",
       "      <td>Data Science</td>\n",
       "      <td>56896.263954</td>\n",
       "    </tr>\n",
       "    <tr>\n",
       "      <th>1</th>\n",
       "      <td>2023</td>\n",
       "      <td>MI</td>\n",
       "      <td>CT</td>\n",
       "      <td>ML Engineer</td>\n",
       "      <td>30000</td>\n",
       "      <td>USD</td>\n",
       "      <td>30000</td>\n",
       "      <td>US</td>\n",
       "      <td>100</td>\n",
       "      <td>GB</td>\n",
       "      <td>S</td>\n",
       "      <td>Machine Learning</td>\n",
       "      <td>54387.685128</td>\n",
       "    </tr>\n",
       "    <tr>\n",
       "      <th>2</th>\n",
       "      <td>2023</td>\n",
       "      <td>MI</td>\n",
       "      <td>CT</td>\n",
       "      <td>ML Engineer</td>\n",
       "      <td>25500</td>\n",
       "      <td>USD</td>\n",
       "      <td>25500</td>\n",
       "      <td>US</td>\n",
       "      <td>100</td>\n",
       "      <td>GB</td>\n",
       "      <td>S</td>\n",
       "      <td>Machine Learning</td>\n",
       "      <td>54387.685128</td>\n",
       "    </tr>\n",
       "    <tr>\n",
       "      <th>3</th>\n",
       "      <td>2023</td>\n",
       "      <td>SE</td>\n",
       "      <td>FT</td>\n",
       "      <td>Data Scientist</td>\n",
       "      <td>175000</td>\n",
       "      <td>USD</td>\n",
       "      <td>175000</td>\n",
       "      <td>CA</td>\n",
       "      <td>100</td>\n",
       "      <td>GB</td>\n",
       "      <td>M</td>\n",
       "      <td>Data Science</td>\n",
       "      <td>56896.263954</td>\n",
       "    </tr>\n",
       "    <tr>\n",
       "      <th>4</th>\n",
       "      <td>2023</td>\n",
       "      <td>SE</td>\n",
       "      <td>FT</td>\n",
       "      <td>Data Scientist</td>\n",
       "      <td>120000</td>\n",
       "      <td>USD</td>\n",
       "      <td>120000</td>\n",
       "      <td>CA</td>\n",
       "      <td>100</td>\n",
       "      <td>GB</td>\n",
       "      <td>M</td>\n",
       "      <td>Data Science</td>\n",
       "      <td>56896.263954</td>\n",
       "    </tr>\n",
       "  </tbody>\n",
       "</table>\n",
       "</div>"
      ],
      "text/plain": [
       "   work_year experience_level employment_type                 job_title  \\\n",
       "0       2023               SE              FT  Principal Data Scientist   \n",
       "1       2023               MI              CT               ML Engineer   \n",
       "2       2023               MI              CT               ML Engineer   \n",
       "3       2023               SE              FT            Data Scientist   \n",
       "4       2023               SE              FT            Data Scientist   \n",
       "\n",
       "   salary salary_currency  salary_in_usd employee_residence  remote_ratio  \\\n",
       "0   80000             EUR          85847                 ES           100   \n",
       "1   30000             USD          30000                 US           100   \n",
       "2   25500             USD          25500                 US           100   \n",
       "3  175000             USD         175000                 CA           100   \n",
       "4  120000             USD         120000                 CA           100   \n",
       "\n",
       "  company_location company_size      Job_Category       std_dev  \n",
       "0               GB            L      Data Science  56896.263954  \n",
       "1               GB            S  Machine Learning  54387.685128  \n",
       "2               GB            S  Machine Learning  54387.685128  \n",
       "3               GB            M      Data Science  56896.263954  \n",
       "4               GB            M      Data Science  56896.263954  "
      ]
     },
     "execution_count": 127,
     "metadata": {},
     "output_type": "execute_result"
    }
   ],
   "source": [
    "no_outliers = ds_salaries[(ds_salaries[\"salary_in_usd\"] > lower) & (ds_salaries[\"salary_in_usd\"] < upper)]\n",
    "no_outliers.head()"
   ]
  },
  {
   "cell_type": "code",
   "execution_count": 126,
   "id": "6151d203",
   "metadata": {},
   "outputs": [
    {
     "data": {
      "text/plain": [
       "count      3692.000000\n",
       "mean     134262.993770\n",
       "std       57992.294349\n",
       "min        5132.000000\n",
       "25%       94916.250000\n",
       "50%      133916.000000\n",
       "75%      174500.000000\n",
       "max      293000.000000\n",
       "Name: salary_in_usd, dtype: float64"
      ]
     },
     "execution_count": 126,
     "metadata": {},
     "output_type": "execute_result"
    }
   ],
   "source": [
    "no_outliers[\"salary_in_usd\"].describe()"
   ]
  },
  {
   "cell_type": "markdown",
   "id": "f062fe90",
   "metadata": {},
   "source": [
    "## c) Plot the histogram to see before and after removing the outliers. "
   ]
  },
  {
   "cell_type": "code",
   "execution_count": 130,
   "id": "1c733ece",
   "metadata": {},
   "outputs": [
    {
     "data": {
      "image/png": "[encoded data removed]",
      "text/plain": [
       "<Figure size 640x480 with 1 Axes>"
      ]
     },
     "metadata": {},
     "output_type": "display_data"
    }
   ],
   "source": [
    "#Before remove the outliers. The distribution is right-skewed by the upper outliers.  \n",
    "sns.histplot(data=ds_salaries, x=\"salary_in_usd\")\n",
    "plt.show()"
   ]
  },
  {
   "cell_type": "code",
   "execution_count": 131,
   "id": "b9409a69",
   "metadata": {
    "scrolled": false
   },
   "outputs": [
    {
     "data": {
      "image/png": "[encoded data removed]",
      "text/plain": [
       "<Figure size 640x480 with 1 Axes>"
      ]
     },
     "metadata": {},
     "output_type": "display_data"
    }
   ],
   "source": [
    "#After remove the outliers. The distribution is normally distributed. \n",
    "sns.histplot(data=no_outliers, x=\"salary_in_usd\")\n",
    "plt.show()"
   ]
  },
  {
   "cell_type": "markdown",
   "id": "2d78991d",
   "metadata": {},
   "source": [
    "# 7) CONSIDERATION FOR CATEGORICAL DATA"
   ]
  },
  {
   "cell_type": "markdown",
   "id": "0557016e",
   "metadata": {},
   "source": [
    "We need to consider the representation of our data. Why? Is our sample representative of the population?:\n",
    "\n",
    "- To understand data distribution\n",
    "- Identifying patterns and relationships\n",
    "- Categorical data play a significant role in predicitve modelling or statistical analysis. Exploring the relationship between categorical features and the target variable can help determine their importance and relevance in the analysis. \n",
    "- To visualize and communicate patterns, distributions or comaprisons. "
   ]
  },
  {
   "cell_type": "markdown",
   "id": "9c5e9ddf",
   "metadata": {},
   "source": [
    "## a) Relative Class Frequency"
   ]
  },
  {
   "cell_type": "code",
   "execution_count": 210,
   "id": "0ec37300",
   "metadata": {},
   "outputs": [
    {
     "data": {
      "text/plain": [
       "Data Engineering    0.320423\n",
       "Data Science        0.234561\n",
       "Data Analytics      0.221560\n",
       "Machine Learning    0.114030\n",
       "Other               0.071235\n",
       "Managerial          0.031690\n",
       "Consultant          0.006501\n",
       "Name: Job_Category, dtype: float64"
      ]
     },
     "execution_count": 210,
     "metadata": {},
     "output_type": "execute_result"
    }
   ],
   "source": [
    "#First we see the relative frequency of our \n",
    "#categorical data. Also known as a proportion or \n",
    "#relative proportion. It is a statistical measure that \n",
    "#represent proportion of a particular value relative to \n",
    "#the total number of observations. \n",
    "\n",
    "no_outliers[\"Job_Category\"].value_counts(normalize=True)\n"
   ]
  },
  {
   "cell_type": "markdown",
   "id": "ccfd3464",
   "metadata": {},
   "source": [
    "## b) Cross Tabulation"
   ]
  },
  {
   "cell_type": "markdown",
   "id": "dc29d709",
   "metadata": {},
   "source": [
    "- We use cross tabulation to analyze the relationship between two categorical variables. "
   ]
  },
  {
   "cell_type": "code",
   "execution_count": 213,
   "id": "c4fd33c9",
   "metadata": {},
   "outputs": [
    {
     "data": {
      "text/html": [
       "<div>\n",
       "<style scoped>\n",
       "    .dataframe tbody tr th:only-of-type {\n",
       "        vertical-align: middle;\n",
       "    }\n",
       "\n",
       "    .dataframe tbody tr th {\n",
       "        vertical-align: top;\n",
       "    }\n",
       "\n",
       "    .dataframe thead th {\n",
       "        text-align: right;\n",
       "    }\n",
       "</style>\n",
       "<table border=\"1\" class=\"dataframe\">\n",
       "  <thead>\n",
       "    <tr style=\"text-align: right;\">\n",
       "      <th>company_size</th>\n",
       "      <th>L</th>\n",
       "      <th>M</th>\n",
       "      <th>S</th>\n",
       "    </tr>\n",
       "    <tr>\n",
       "      <th>Job_Category</th>\n",
       "      <th></th>\n",
       "      <th></th>\n",
       "      <th></th>\n",
       "    </tr>\n",
       "  </thead>\n",
       "  <tbody>\n",
       "    <tr>\n",
       "      <th>Consultant</th>\n",
       "      <td>67745.250000</td>\n",
       "      <td>92983.941176</td>\n",
       "      <td>78858.000000</td>\n",
       "    </tr>\n",
       "    <tr>\n",
       "      <th>Data Analytics</th>\n",
       "      <td>75638.294872</td>\n",
       "      <td>116816.054775</td>\n",
       "      <td>61572.464286</td>\n",
       "    </tr>\n",
       "    <tr>\n",
       "      <th>Data Engineering</th>\n",
       "      <td>118039.320000</td>\n",
       "      <td>143665.358349</td>\n",
       "      <td>85944.764706</td>\n",
       "    </tr>\n",
       "    <tr>\n",
       "      <th>Data Science</th>\n",
       "      <td>106560.405172</td>\n",
       "      <td>146494.396648</td>\n",
       "      <td>61605.088235</td>\n",
       "    </tr>\n",
       "    <tr>\n",
       "      <th>Machine Learning</th>\n",
       "      <td>121710.985075</td>\n",
       "      <td>156772.553398</td>\n",
       "      <td>87709.311111</td>\n",
       "    </tr>\n",
       "    <tr>\n",
       "      <th>Managerial</th>\n",
       "      <td>144463.045455</td>\n",
       "      <td>160854.637363</td>\n",
       "      <td>118630.000000</td>\n",
       "    </tr>\n",
       "    <tr>\n",
       "      <th>Other</th>\n",
       "      <td>139730.581818</td>\n",
       "      <td>152667.723958</td>\n",
       "      <td>76492.062500</td>\n",
       "    </tr>\n",
       "  </tbody>\n",
       "</table>\n",
       "</div>"
      ],
      "text/plain": [
       "company_size                  L              M              S\n",
       "Job_Category                                                 \n",
       "Consultant         67745.250000   92983.941176   78858.000000\n",
       "Data Analytics     75638.294872  116816.054775   61572.464286\n",
       "Data Engineering  118039.320000  143665.358349   85944.764706\n",
       "Data Science      106560.405172  146494.396648   61605.088235\n",
       "Machine Learning  121710.985075  156772.553398   87709.311111\n",
       "Managerial        144463.045455  160854.637363  118630.000000\n",
       "Other             139730.581818  152667.723958   76492.062500"
      ]
     },
     "execution_count": 213,
     "metadata": {},
     "output_type": "execute_result"
    }
   ],
   "source": [
    "pd.crosstab(no_outliers[\"Job_Category\"], no_outliers[\"company_size\"], values = no_outliers[\"salary_in_usd\"], aggfunc = \"mean\")"
   ]
  },
  {
   "cell_type": "markdown",
   "id": "7c089f63",
   "metadata": {},
   "source": [
    "- From the above cross tab result. We can see that the average salary(USD) for consultant in large company is $67,745. "
   ]
  },
  {
   "cell_type": "code",
   "execution_count": 217,
   "id": "d6ffbc0e",
   "metadata": {},
   "outputs": [],
   "source": [
    "ds_salaries_clean = no_outliers"
   ]
  },
  {
   "cell_type": "code",
   "execution_count": 218,
   "id": "03d7c4fa",
   "metadata": {},
   "outputs": [
    {
     "data": {
      "text/html": [
       "<div>\n",
       "<style scoped>\n",
       "    .dataframe tbody tr th:only-of-type {\n",
       "        vertical-align: middle;\n",
       "    }\n",
       "\n",
       "    .dataframe tbody tr th {\n",
       "        vertical-align: top;\n",
       "    }\n",
       "\n",
       "    .dataframe thead th {\n",
       "        text-align: right;\n",
       "    }\n",
       "</style>\n",
       "<table border=\"1\" class=\"dataframe\">\n",
       "  <thead>\n",
       "    <tr style=\"text-align: right;\">\n",
       "      <th></th>\n",
       "      <th>work_year</th>\n",
       "      <th>experience_level</th>\n",
       "      <th>employment_type</th>\n",
       "      <th>job_title</th>\n",
       "      <th>salary</th>\n",
       "      <th>salary_currency</th>\n",
       "      <th>salary_in_usd</th>\n",
       "      <th>employee_residence</th>\n",
       "      <th>remote_ratio</th>\n",
       "      <th>company_location</th>\n",
       "      <th>company_size</th>\n",
       "      <th>Job_Category</th>\n",
       "      <th>std_dev</th>\n",
       "    </tr>\n",
       "  </thead>\n",
       "  <tbody>\n",
       "    <tr>\n",
       "      <th>0</th>\n",
       "      <td>2023</td>\n",
       "      <td>SE</td>\n",
       "      <td>FT</td>\n",
       "      <td>Principal Data Scientist</td>\n",
       "      <td>80000</td>\n",
       "      <td>EUR</td>\n",
       "      <td>85847</td>\n",
       "      <td>ES</td>\n",
       "      <td>100</td>\n",
       "      <td>GB</td>\n",
       "      <td>L</td>\n",
       "      <td>Data Science</td>\n",
       "      <td>56896.263954</td>\n",
       "    </tr>\n",
       "    <tr>\n",
       "      <th>1</th>\n",
       "      <td>2023</td>\n",
       "      <td>MI</td>\n",
       "      <td>CT</td>\n",
       "      <td>ML Engineer</td>\n",
       "      <td>30000</td>\n",
       "      <td>USD</td>\n",
       "      <td>30000</td>\n",
       "      <td>US</td>\n",
       "      <td>100</td>\n",
       "      <td>GB</td>\n",
       "      <td>S</td>\n",
       "      <td>Machine Learning</td>\n",
       "      <td>54387.685128</td>\n",
       "    </tr>\n",
       "    <tr>\n",
       "      <th>2</th>\n",
       "      <td>2023</td>\n",
       "      <td>MI</td>\n",
       "      <td>CT</td>\n",
       "      <td>ML Engineer</td>\n",
       "      <td>25500</td>\n",
       "      <td>USD</td>\n",
       "      <td>25500</td>\n",
       "      <td>US</td>\n",
       "      <td>100</td>\n",
       "      <td>GB</td>\n",
       "      <td>S</td>\n",
       "      <td>Machine Learning</td>\n",
       "      <td>54387.685128</td>\n",
       "    </tr>\n",
       "    <tr>\n",
       "      <th>3</th>\n",
       "      <td>2023</td>\n",
       "      <td>SE</td>\n",
       "      <td>FT</td>\n",
       "      <td>Data Scientist</td>\n",
       "      <td>175000</td>\n",
       "      <td>USD</td>\n",
       "      <td>175000</td>\n",
       "      <td>CA</td>\n",
       "      <td>100</td>\n",
       "      <td>GB</td>\n",
       "      <td>M</td>\n",
       "      <td>Data Science</td>\n",
       "      <td>56896.263954</td>\n",
       "    </tr>\n",
       "    <tr>\n",
       "      <th>4</th>\n",
       "      <td>2023</td>\n",
       "      <td>SE</td>\n",
       "      <td>FT</td>\n",
       "      <td>Data Scientist</td>\n",
       "      <td>120000</td>\n",
       "      <td>USD</td>\n",
       "      <td>120000</td>\n",
       "      <td>CA</td>\n",
       "      <td>100</td>\n",
       "      <td>GB</td>\n",
       "      <td>M</td>\n",
       "      <td>Data Science</td>\n",
       "      <td>56896.263954</td>\n",
       "    </tr>\n",
       "  </tbody>\n",
       "</table>\n",
       "</div>"
      ],
      "text/plain": [
       "   work_year experience_level employment_type                 job_title  \\\n",
       "0       2023               SE              FT  Principal Data Scientist   \n",
       "1       2023               MI              CT               ML Engineer   \n",
       "2       2023               MI              CT               ML Engineer   \n",
       "3       2023               SE              FT            Data Scientist   \n",
       "4       2023               SE              FT            Data Scientist   \n",
       "\n",
       "   salary salary_currency  salary_in_usd employee_residence  remote_ratio  \\\n",
       "0   80000             EUR          85847                 ES           100   \n",
       "1   30000             USD          30000                 US           100   \n",
       "2   25500             USD          25500                 US           100   \n",
       "3  175000             USD         175000                 CA           100   \n",
       "4  120000             USD         120000                 CA           100   \n",
       "\n",
       "  company_location company_size      Job_Category       std_dev  \n",
       "0               GB            L      Data Science  56896.263954  \n",
       "1               GB            S  Machine Learning  54387.685128  \n",
       "2               GB            S  Machine Learning  54387.685128  \n",
       "3               GB            M      Data Science  56896.263954  \n",
       "4               GB            M      Data Science  56896.263954  "
      ]
     },
     "execution_count": 218,
     "metadata": {},
     "output_type": "execute_result"
    }
   ],
   "source": [
    "ds_salaries_clean.head()"
   ]
  },
  {
   "cell_type": "code",
   "execution_count": 220,
   "id": "a6b02159",
   "metadata": {},
   "outputs": [],
   "source": [
    "ds_salaries_clean.to_csv('/Users/nuratiqamohdfouzy/Downloads/ds_salaries_clean.csv', index=False)\n"
   ]
  },
  {
   "cell_type": "code",
   "execution_count": null,
   "id": "24d8fbea",
   "metadata": {},
   "outputs": [],
   "source": []
  }
 ],
 "metadata": {
  "kernelspec": {
   "display_name": "Python 3 (ipykernel)",
   "language": "python",
   "name": "python3"
  },
  "language_info": {
   "codemirror_mode": {
    "name": "ipython",
    "version": 3
   },
   "file_extension": ".py",
   "mimetype": "text/x-python",
   "name": "python",
   "nbconvert_exporter": "python",
   "pygments_lexer": "ipython3",
   "version": "3.9.16"
  }
 },
 "nbformat": 4,
 "nbformat_minor": 5
}
